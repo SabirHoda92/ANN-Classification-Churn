{
 "cells": [
  {
   "cell_type": "code",
   "execution_count": null,
   "id": "68fb85ac",
   "metadata": {},
   "outputs": [],
   "source": [
    "import pandas as pd\n",
    "import numpy as np\n",
    "import tensorflow as tf\n",
    "import pickle\n",
    "from tensorflow.keras.models import load_model"
   ]
  },
  {
   "cell_type": "code",
   "execution_count": 4,
   "id": "f3c7d308",
   "metadata": {},
   "outputs": [
    {
     "name": "stderr",
     "output_type": "stream",
     "text": [
      "WARNING:absl:Compiled the loaded model, but the compiled metrics have yet to be built. `model.compile_metrics` will be empty until you train or evaluate the model.\n"
     ]
    }
   ],
   "source": [
    "#We use pickle in Python when we want to save (serialize) Python objects into a file or load (deserialize) them back later\n",
    "#Load the trained model, scaler, pickle, onehot\n",
    "model = load_model('model.h5')\n",
    "\n",
    "#load the enocder and scaler\n",
    "with open('one_hot_encode.pk1', 'rb') as file:\n",
    "    one_hot_encoder = pickle.load(file)\n",
    "    \n",
    "with open('label_encoder_gender.pk1', 'rb') as file:\n",
    "    label_encoder_gender  = pickle.load(file)\n",
    "    \n",
    "with open('Scaler.pk1', 'rb') as file:\n",
    "    scaler = pickle.load(file)"
   ]
  },
  {
   "cell_type": "code",
   "execution_count": 57,
   "id": "f70cc4de",
   "metadata": {},
   "outputs": [],
   "source": [
    "#Example of input data\n",
    "input_data = {\n",
    "    \"Credit Score\": 600,\n",
    "    \"Geography\": \"France\",\n",
    "    \"Gender\" : \"Male\",\n",
    "    \"Age\": 40,\n",
    "    \"Tenure\" : 3,\n",
    "    \"Balance\" : 60000,\n",
    "    \"NumOfProducts\": 2,\n",
    "    \"HascaCard\" : 1,\n",
    "    \"IsActiveMember\" : 1,\n",
    "    \"EstimateSalary\" : 50000\n",
    "}"
   ]
  },
  {
   "cell_type": "code",
   "execution_count": 82,
   "id": "6752de3a",
   "metadata": {},
   "outputs": [],
   "source": [
    "#One hot eocode Geography\n",
    "\n",
    "# We apply the trained OneHotEncoder on the 'Geography' column value from input_data.\n",
    "# This converts the categorical text (e.g., \"France\", \"Spain\", \"Germany\") into a \n",
    "# numerical one-hot encoded array (binary vector). \n",
    "# .transform() ensures we use the same encoding mapping learned during training, \n",
    "# and .toarray() converts the sparse matrix result into a dense NumPy array \n",
    "# so it can be used in model prediction\n",
    "geo_encoded = one_hot_encoder.transform([input_data['Geography']])\n"
   ]
  },
  {
   "cell_type": "code",
   "execution_count": 83,
   "id": "330536e7",
   "metadata": {},
   "outputs": [],
   "source": [
    "# We create a DataFrame from the one-hot encoded array for easier handling.  \n",
    "# 'geo_encoded' is converted into a DataFrame with proper column names.  \n",
    "# The column names are fetched using one_hot_encoder.get_feature_names_out(['Geography']),  \n",
    "# which gives names like 'Geography_France', 'Geography_Germany', etc.  \n",
    "# This makes the encoded data human-readable and aligned with the model’s input features.\n",
    "geo_encoded_df = pd.DataFrame(geo_encoded, columns=one_hot_encoder.get_feature_names_out(['Geograohy']))"
   ]
  },
  {
   "cell_type": "code",
   "execution_count": 84,
   "id": "9c705d61",
   "metadata": {},
   "outputs": [
    {
     "data": {
      "text/html": [
       "<div>\n",
       "<style scoped>\n",
       "    .dataframe tbody tr th:only-of-type {\n",
       "        vertical-align: middle;\n",
       "    }\n",
       "\n",
       "    .dataframe tbody tr th {\n",
       "        vertical-align: top;\n",
       "    }\n",
       "\n",
       "    .dataframe thead th {\n",
       "        text-align: right;\n",
       "    }\n",
       "</style>\n",
       "<table border=\"1\" class=\"dataframe\">\n",
       "  <thead>\n",
       "    <tr style=\"text-align: right;\">\n",
       "      <th></th>\n",
       "      <th>Geograohy_France</th>\n",
       "    </tr>\n",
       "  </thead>\n",
       "  <tbody>\n",
       "    <tr>\n",
       "      <th>0</th>\n",
       "      <td>1.0</td>\n",
       "    </tr>\n",
       "  </tbody>\n",
       "</table>\n",
       "</div>"
      ],
      "text/plain": [
       "   Geograohy_France\n",
       "0               1.0"
      ]
     },
     "execution_count": 84,
     "metadata": {},
     "output_type": "execute_result"
    }
   ],
   "source": [
    "geo_encoded_df"
   ]
  },
  {
   "cell_type": "code",
   "execution_count": 86,
   "id": "c93f1d1b",
   "metadata": {},
   "outputs": [],
   "source": [
    "input_data = pd.DataFrame([[input_data]])"
   ]
  },
  {
   "cell_type": "code",
   "execution_count": 61,
   "id": "7cab37c0",
   "metadata": {},
   "outputs": [
    {
     "data": {
      "text/html": [
       "<div>\n",
       "<style scoped>\n",
       "    .dataframe tbody tr th:only-of-type {\n",
       "        vertical-align: middle;\n",
       "    }\n",
       "\n",
       "    .dataframe tbody tr th {\n",
       "        vertical-align: top;\n",
       "    }\n",
       "\n",
       "    .dataframe thead th {\n",
       "        text-align: right;\n",
       "    }\n",
       "</style>\n",
       "<table border=\"1\" class=\"dataframe\">\n",
       "  <thead>\n",
       "    <tr style=\"text-align: right;\">\n",
       "      <th></th>\n",
       "      <th>Credit Score</th>\n",
       "      <th>Geography</th>\n",
       "      <th>Gender</th>\n",
       "      <th>Age</th>\n",
       "      <th>Tenure</th>\n",
       "      <th>Balance</th>\n",
       "      <th>NumOfProducts</th>\n",
       "      <th>HascaCard</th>\n",
       "      <th>IsActiveMember</th>\n",
       "      <th>EstimateSalary</th>\n",
       "      <th>Geograohy_France</th>\n",
       "    </tr>\n",
       "  </thead>\n",
       "  <tbody>\n",
       "    <tr>\n",
       "      <th>0</th>\n",
       "      <td>600</td>\n",
       "      <td>France</td>\n",
       "      <td>Male</td>\n",
       "      <td>40</td>\n",
       "      <td>3</td>\n",
       "      <td>60000</td>\n",
       "      <td>2</td>\n",
       "      <td>1</td>\n",
       "      <td>1</td>\n",
       "      <td>50000</td>\n",
       "      <td>1.0</td>\n",
       "    </tr>\n",
       "  </tbody>\n",
       "</table>\n",
       "</div>"
      ],
      "text/plain": [
       "   Credit Score Geography Gender  Age  Tenure  Balance  NumOfProducts  \\\n",
       "0           600    France   Male   40       3    60000              2   \n",
       "\n",
       "   HascaCard  IsActiveMember  EstimateSalary  Geograohy_France  \n",
       "0          1               1           50000               1.0  "
      ]
     },
     "execution_count": 61,
     "metadata": {},
     "output_type": "execute_result"
    }
   ],
   "source": [
    "#combined one hot encoded column with input_data\n",
    "input_df = pd.concat([input_data.reset_index(drop=True),geo_encoded_df], axis=1)\n",
    "input_df"
   ]
  },
  {
   "cell_type": "code",
   "execution_count": 62,
   "id": "67f0a6d2",
   "metadata": {},
   "outputs": [
    {
     "data": {
      "text/html": [
       "<div>\n",
       "<style scoped>\n",
       "    .dataframe tbody tr th:only-of-type {\n",
       "        vertical-align: middle;\n",
       "    }\n",
       "\n",
       "    .dataframe tbody tr th {\n",
       "        vertical-align: top;\n",
       "    }\n",
       "\n",
       "    .dataframe thead th {\n",
       "        text-align: right;\n",
       "    }\n",
       "</style>\n",
       "<table border=\"1\" class=\"dataframe\">\n",
       "  <thead>\n",
       "    <tr style=\"text-align: right;\">\n",
       "      <th></th>\n",
       "      <th>Credit Score</th>\n",
       "      <th>Geography</th>\n",
       "      <th>Gender</th>\n",
       "      <th>Age</th>\n",
       "      <th>Tenure</th>\n",
       "      <th>Balance</th>\n",
       "      <th>NumOfProducts</th>\n",
       "      <th>HascaCard</th>\n",
       "      <th>IsActiveMember</th>\n",
       "      <th>EstimateSalary</th>\n",
       "      <th>Geograohy_France</th>\n",
       "    </tr>\n",
       "  </thead>\n",
       "  <tbody>\n",
       "    <tr>\n",
       "      <th>0</th>\n",
       "      <td>600</td>\n",
       "      <td>France</td>\n",
       "      <td>1</td>\n",
       "      <td>40</td>\n",
       "      <td>3</td>\n",
       "      <td>60000</td>\n",
       "      <td>2</td>\n",
       "      <td>1</td>\n",
       "      <td>1</td>\n",
       "      <td>50000</td>\n",
       "      <td>1.0</td>\n",
       "    </tr>\n",
       "  </tbody>\n",
       "</table>\n",
       "</div>"
      ],
      "text/plain": [
       "   Credit Score Geography  Gender  Age  Tenure  Balance  NumOfProducts  \\\n",
       "0           600    France       1   40       3    60000              2   \n",
       "\n",
       "   HascaCard  IsActiveMember  EstimateSalary  Geograohy_France  \n",
       "0          1               1           50000               1.0  "
      ]
     },
     "execution_count": 62,
     "metadata": {},
     "output_type": "execute_result"
    }
   ],
   "source": [
    "#Encode Categorical Variable\n",
    "input_df['Gender'] = label_encoder_gender.transform(input_df['Gender'])\n",
    "input_df"
   ]
  },
  {
   "cell_type": "code",
   "execution_count": 49,
   "id": "2d06599e",
   "metadata": {},
   "outputs": [
    {
     "data": {
      "text/html": [
       "<div>\n",
       "<style scoped>\n",
       "    .dataframe tbody tr th:only-of-type {\n",
       "        vertical-align: middle;\n",
       "    }\n",
       "\n",
       "    .dataframe tbody tr th {\n",
       "        vertical-align: top;\n",
       "    }\n",
       "\n",
       "    .dataframe thead th {\n",
       "        text-align: right;\n",
       "    }\n",
       "</style>\n",
       "<table border=\"1\" class=\"dataframe\">\n",
       "  <thead>\n",
       "    <tr style=\"text-align: right;\">\n",
       "      <th></th>\n",
       "      <th>Credit Score</th>\n",
       "      <th>Gender</th>\n",
       "      <th>Age</th>\n",
       "      <th>Tenure</th>\n",
       "      <th>Balance</th>\n",
       "      <th>NumOfProducts</th>\n",
       "      <th>HascaCard</th>\n",
       "      <th>IsActiveMember</th>\n",
       "      <th>EstimateSalary</th>\n",
       "      <th>Geograohy_France</th>\n",
       "      <th>Geograohy_France</th>\n",
       "    </tr>\n",
       "  </thead>\n",
       "  <tbody>\n",
       "    <tr>\n",
       "      <th>0</th>\n",
       "      <td>600</td>\n",
       "      <td>1</td>\n",
       "      <td>40</td>\n",
       "      <td>3</td>\n",
       "      <td>60000</td>\n",
       "      <td>2</td>\n",
       "      <td>1</td>\n",
       "      <td>1</td>\n",
       "      <td>50000</td>\n",
       "      <td>1.0</td>\n",
       "      <td>1.0</td>\n",
       "    </tr>\n",
       "  </tbody>\n",
       "</table>\n",
       "</div>"
      ],
      "text/plain": [
       "   Credit Score  Gender  Age  Tenure  Balance  NumOfProducts  HascaCard  \\\n",
       "0           600       1   40       3    60000              2          1   \n",
       "\n",
       "   IsActiveMember  EstimateSalary  Geograohy_France  Geograohy_France  \n",
       "0               1           50000               1.0               1.0  "
      ]
     },
     "execution_count": 49,
     "metadata": {},
     "output_type": "execute_result"
    }
   ],
   "source": [
    "#concetenation one hot encoded\n",
    "input_df = pd.concat([input_df.drop('Geography', axis=1), geo_encoded_df],axis=1)\n",
    "input_df"
   ]
  },
  {
   "cell_type": "code",
   "execution_count": 88,
   "id": "8fa7867c",
   "metadata": {},
   "outputs": [],
   "source": [
    "# Example: list of feature names used in training after preprocessing\n",
    "training_columns = scaler.feature_names_in_   # available in sklearn >= 1.0\n",
    "\n",
    "# Align input_df with training columns (add missing, reorder, fill with 0)\n",
    "input_df = input_df.reindex(columns=training_columns, fill_value=0)\n",
    "\n",
    "# Now safe to scale\n",
    "Scaler_df = scaler.transform(input_df)"
   ]
  },
  {
   "cell_type": "code",
   "execution_count": 89,
   "id": "38371280",
   "metadata": {},
   "outputs": [
    {
     "data": {
      "text/plain": [
       "array([[-6.76262379,  0.91324755,  0.10479359, -0.69539349, -0.25781119,\n",
       "         0.80843615, -1.54035103,  0.97481699, -1.74616572, -0.99850112,\n",
       "        -0.57946723, -0.57638802]])"
      ]
     },
     "execution_count": 89,
     "metadata": {},
     "output_type": "execute_result"
    }
   ],
   "source": [
    "Scaler_df"
   ]
  },
  {
   "cell_type": "code",
   "execution_count": 90,
   "id": "09ef6cbd",
   "metadata": {},
   "outputs": [
    {
     "name": "stdout",
     "output_type": "stream",
     "text": [
      "\u001b[1m1/1\u001b[0m \u001b[32m━━━━━━━━━━━━━━━━━━━━\u001b[0m\u001b[37m\u001b[0m \u001b[1m1s\u001b[0m 642ms/step\n"
     ]
    },
    {
     "data": {
      "text/plain": [
       "array([[0.11219859]], dtype=float32)"
      ]
     },
     "execution_count": 90,
     "metadata": {},
     "output_type": "execute_result"
    }
   ],
   "source": [
    "#predict churn\n",
    "prediction = model.predict(Scaler_df)\n",
    "prediction"
   ]
  },
  {
   "cell_type": "code",
   "execution_count": 91,
   "id": "4cdb9246",
   "metadata": {},
   "outputs": [
    {
     "data": {
      "text/plain": [
       "np.float32(0.11219859)"
      ]
     },
     "execution_count": 91,
     "metadata": {},
     "output_type": "execute_result"
    }
   ],
   "source": [
    "prediction_proba = prediction[0][0]\n",
    "prediction_proba"
   ]
  },
  {
   "cell_type": "code",
   "execution_count": 92,
   "id": "78ed295a",
   "metadata": {},
   "outputs": [
    {
     "name": "stdout",
     "output_type": "stream",
     "text": [
      "The customer is not likely to churn\n"
     ]
    }
   ],
   "source": [
    "if prediction_proba > 0.5:\n",
    "    print(\"The customer is likely to churn\")\n",
    "else:\n",
    "    print(\"The customer is not likely to churn\")"
   ]
  },
  {
   "cell_type": "code",
   "execution_count": null,
   "id": "399dea11",
   "metadata": {},
   "outputs": [],
   "source": []
  }
 ],
 "metadata": {
  "kernelspec": {
   "display_name": "venv",
   "language": "python",
   "name": "python3"
  },
  "language_info": {
   "codemirror_mode": {
    "name": "ipython",
    "version": 3
   },
   "file_extension": ".py",
   "mimetype": "text/x-python",
   "name": "python",
   "nbconvert_exporter": "python",
   "pygments_lexer": "ipython3",
   "version": "3.12.1"
  }
 },
 "nbformat": 4,
 "nbformat_minor": 5
}
