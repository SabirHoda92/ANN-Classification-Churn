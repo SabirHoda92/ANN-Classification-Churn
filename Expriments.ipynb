{
 "cells": [
  {
   "cell_type": "code",
   "execution_count": 4,
   "id": "3317618c",
   "metadata": {},
   "outputs": [],
   "source": [
    "import tensorflow as tf\n",
    "from tensorflow.keras.models import Sequential\n",
    "from tensorflow.keras.layers import Dense\n",
    "from tensorflow.keras.callbacks import  EarlyStopping,TensorBoard\n",
    "import datetime"
   ]
  },
  {
   "cell_type": "code",
   "execution_count": 10,
   "id": "9cf0b41c",
   "metadata": {},
   "outputs": [
    {
     "name": "stdout",
     "output_type": "stream",
     "text": [
      "Collecting scikit-learn\n",
      "  Obtaining dependency information for scikit-learn from https://files.pythonhosted.org/packages/15/fa/c61a787e35f05f17fc10523f567677ec4eeee5f95aa4798dbbbcd9625617/scikit_learn-1.7.1-cp312-cp312-win_amd64.whl.metadata\n",
      "  Downloading scikit_learn-1.7.1-cp312-cp312-win_amd64.whl.metadata (11 kB)\n",
      "Requirement already satisfied: numpy>=1.22.0 in d:\\generative ai\\venv\\lib\\site-packages (from scikit-learn) (2.2.6)\n",
      "Collecting scipy>=1.8.0 (from scikit-learn)\n",
      "  Obtaining dependency information for scipy>=1.8.0 from https://files.pythonhosted.org/packages/14/c3/61f273ae550fbf1667675701112e380881905e28448c080b23b5a181df7c/scipy-1.16.1-cp312-cp312-win_amd64.whl.metadata\n",
      "  Downloading scipy-1.16.1-cp312-cp312-win_amd64.whl.metadata (60 kB)\n",
      "     ---------------------------------------- 0.0/60.8 kB ? eta -:--:--\n",
      "     ---------------------------------------- 0.0/60.8 kB ? eta -:--:--\n",
      "     ------ --------------------------------- 10.2/60.8 kB ? eta -:--:--\n",
      "     ------ --------------------------------- 10.2/60.8 kB ? eta -:--:--\n",
      "     ------------------- ------------------ 30.7/60.8 kB 330.3 kB/s eta 0:00:01\n",
      "     -------------------------------------- 60.8/60.8 kB 324.1 kB/s eta 0:00:00\n",
      "Collecting joblib>=1.2.0 (from scikit-learn)\n",
      "  Obtaining dependency information for joblib>=1.2.0 from https://files.pythonhosted.org/packages/7d/4f/1195bbac8e0c2acc5f740661631d8d750dc38d4a32b23ee5df3cde6f4e0d/joblib-1.5.1-py3-none-any.whl.metadata\n",
      "  Downloading joblib-1.5.1-py3-none-any.whl.metadata (5.6 kB)\n",
      "Collecting threadpoolctl>=3.1.0 (from scikit-learn)\n",
      "  Obtaining dependency information for threadpoolctl>=3.1.0 from https://files.pythonhosted.org/packages/32/d5/f9a850d79b0851d1d4ef6456097579a9005b31fea68726a4ae5f2d82ddd9/threadpoolctl-3.6.0-py3-none-any.whl.metadata\n",
      "  Downloading threadpoolctl-3.6.0-py3-none-any.whl.metadata (13 kB)\n",
      "Downloading scikit_learn-1.7.1-cp312-cp312-win_amd64.whl (8.7 MB)\n",
      "   ---------------------------------------- 0.0/8.7 MB ? eta -:--:--\n",
      "    --------------------------------------- 0.1/8.7 MB 4.3 MB/s eta 0:00:03\n",
      "   -- ------------------------------------- 0.6/8.7 MB 7.0 MB/s eta 0:00:02\n",
      "   ---- ----------------------------------- 1.1/8.7 MB 8.4 MB/s eta 0:00:01\n",
      "   ------- -------------------------------- 1.6/8.7 MB 8.0 MB/s eta 0:00:01\n",
      "   ---------- ----------------------------- 2.2/8.7 MB 8.9 MB/s eta 0:00:01\n",
      "   ------------ --------------------------- 2.7/8.7 MB 8.2 MB/s eta 0:00:01\n",
      "   -------------- ------------------------- 3.2/8.7 MB 8.5 MB/s eta 0:00:01\n",
      "   ---------------- ----------------------- 3.6/8.7 MB 8.2 MB/s eta 0:00:01\n",
      "   ------------------ --------------------- 4.0/8.7 MB 8.4 MB/s eta 0:00:01\n",
      "   ------------------- -------------------- 4.4/8.7 MB 8.4 MB/s eta 0:00:01\n",
      "   --------------------- ------------------ 4.8/8.7 MB 8.5 MB/s eta 0:00:01\n",
      "   ----------------------- ---------------- 5.1/8.7 MB 8.4 MB/s eta 0:00:01\n",
      "   ------------------------- -------------- 5.5/8.7 MB 8.2 MB/s eta 0:00:01\n",
      "   --------------------------- ------------ 5.9/8.7 MB 8.2 MB/s eta 0:00:01\n",
      "   ---------------------------- ----------- 6.3/8.7 MB 8.4 MB/s eta 0:00:01\n",
      "   ------------------------------ --------- 6.7/8.7 MB 8.4 MB/s eta 0:00:01\n",
      "   ------------------------------- -------- 6.9/8.7 MB 8.3 MB/s eta 0:00:01\n",
      "   ---------------------------------- ----- 7.4/8.7 MB 8.3 MB/s eta 0:00:01\n",
      "   ----------------------------------- ---- 7.8/8.7 MB 8.3 MB/s eta 0:00:01\n",
      "   ------------------------------------- -- 8.3/8.7 MB 8.4 MB/s eta 0:00:01\n",
      "   ---------------------------------------  8.6/8.7 MB 8.4 MB/s eta 0:00:01\n",
      "   ---------------------------------------  8.7/8.7 MB 8.3 MB/s eta 0:00:01\n",
      "   ---------------------------------------- 8.7/8.7 MB 7.9 MB/s eta 0:00:00\n",
      "Downloading joblib-1.5.1-py3-none-any.whl (307 kB)\n",
      "   ---------------------------------------- 0.0/307.7 kB ? eta -:--:--\n",
      "   ---------------------------------------- 307.7/307.7 kB 9.6 MB/s eta 0:00:00\n",
      "Downloading scipy-1.16.1-cp312-cp312-win_amd64.whl (38.5 MB)\n",
      "   ---------------------------------------- 0.0/38.5 MB ? eta -:--:--\n",
      "    --------------------------------------- 0.7/38.5 MB 14.6 MB/s eta 0:00:03\n",
      "   - -------------------------------------- 1.1/38.5 MB 11.7 MB/s eta 0:00:04\n",
      "   - -------------------------------------- 1.6/38.5 MB 11.2 MB/s eta 0:00:04\n",
      "   - -------------------------------------- 1.9/38.5 MB 11.0 MB/s eta 0:00:04\n",
      "   -- ------------------------------------- 2.4/38.5 MB 10.2 MB/s eta 0:00:04\n",
      "   -- ------------------------------------- 2.9/38.5 MB 10.2 MB/s eta 0:00:04\n",
      "   --- ------------------------------------ 3.3/38.5 MB 10.0 MB/s eta 0:00:04\n",
      "   --- ------------------------------------ 3.6/38.5 MB 9.7 MB/s eta 0:00:04\n",
      "   ---- ----------------------------------- 4.0/38.5 MB 9.7 MB/s eta 0:00:04\n",
      "   ---- ----------------------------------- 4.5/38.5 MB 9.9 MB/s eta 0:00:04\n",
      "   ----- ---------------------------------- 5.0/38.5 MB 9.6 MB/s eta 0:00:04\n",
      "   ----- ---------------------------------- 5.2/38.5 MB 9.5 MB/s eta 0:00:04\n",
      "   ----- ---------------------------------- 5.8/38.5 MB 9.4 MB/s eta 0:00:04\n",
      "   ------ --------------------------------- 6.2/38.5 MB 9.5 MB/s eta 0:00:04\n",
      "   ------ --------------------------------- 6.6/38.5 MB 9.6 MB/s eta 0:00:04\n",
      "   ------- -------------------------------- 7.1/38.5 MB 9.4 MB/s eta 0:00:04\n",
      "   ------- -------------------------------- 7.4/38.5 MB 9.3 MB/s eta 0:00:04\n",
      "   ------- -------------------------------- 7.7/38.5 MB 9.1 MB/s eta 0:00:04\n",
      "   -------- ------------------------------- 8.1/38.5 MB 9.2 MB/s eta 0:00:04\n",
      "   -------- ------------------------------- 8.5/38.5 MB 9.1 MB/s eta 0:00:04\n",
      "   --------- ------------------------------ 9.0/38.5 MB 9.2 MB/s eta 0:00:04\n",
      "   --------- ------------------------------ 9.3/38.5 MB 9.1 MB/s eta 0:00:04\n",
      "   ---------- ----------------------------- 9.7/38.5 MB 9.1 MB/s eta 0:00:04\n",
      "   ---------- ----------------------------- 10.0/38.5 MB 9.0 MB/s eta 0:00:04\n",
      "   ---------- ----------------------------- 10.5/38.5 MB 8.8 MB/s eta 0:00:04\n",
      "   ----------- ---------------------------- 10.9/38.5 MB 8.8 MB/s eta 0:00:04\n",
      "   ----------- ---------------------------- 11.2/38.5 MB 8.8 MB/s eta 0:00:04\n",
      "   ------------ --------------------------- 11.6/38.5 MB 8.7 MB/s eta 0:00:04\n",
      "   ------------ --------------------------- 12.0/38.5 MB 8.7 MB/s eta 0:00:04\n",
      "   ------------ --------------------------- 12.4/38.5 MB 8.7 MB/s eta 0:00:03\n",
      "   ------------- -------------------------- 12.9/38.5 MB 8.7 MB/s eta 0:00:03\n",
      "   ------------- -------------------------- 13.3/38.5 MB 8.7 MB/s eta 0:00:03\n",
      "   -------------- ------------------------- 13.7/38.5 MB 8.7 MB/s eta 0:00:03\n",
      "   -------------- ------------------------- 14.0/38.5 MB 8.6 MB/s eta 0:00:03\n",
      "   --------------- ------------------------ 14.5/38.5 MB 8.6 MB/s eta 0:00:03\n",
      "   --------------- ------------------------ 14.9/38.5 MB 8.6 MB/s eta 0:00:03\n",
      "   --------------- ------------------------ 15.3/38.5 MB 8.6 MB/s eta 0:00:03\n",
      "   ---------------- ----------------------- 15.7/38.5 MB 8.6 MB/s eta 0:00:03\n",
      "   ---------------- ----------------------- 16.1/38.5 MB 8.5 MB/s eta 0:00:03\n",
      "   ----------------- ---------------------- 16.5/38.5 MB 8.7 MB/s eta 0:00:03\n",
      "   ----------------- ---------------------- 16.9/38.5 MB 8.6 MB/s eta 0:00:03\n",
      "   ------------------ --------------------- 17.4/38.5 MB 8.6 MB/s eta 0:00:03\n",
      "   ------------------ --------------------- 17.7/38.5 MB 8.7 MB/s eta 0:00:03\n",
      "   ------------------ --------------------- 18.0/38.5 MB 8.7 MB/s eta 0:00:03\n",
      "   ------------------- -------------------- 18.5/38.5 MB 8.6 MB/s eta 0:00:03\n",
      "   ------------------- -------------------- 18.9/38.5 MB 8.6 MB/s eta 0:00:03\n",
      "   -------------------- ------------------- 19.4/38.5 MB 8.7 MB/s eta 0:00:03\n",
      "   -------------------- ------------------- 19.7/38.5 MB 8.7 MB/s eta 0:00:03\n",
      "   -------------------- ------------------- 20.1/38.5 MB 9.0 MB/s eta 0:00:03\n",
      "   --------------------- ------------------ 20.5/38.5 MB 8.6 MB/s eta 0:00:03\n",
      "   --------------------- ------------------ 20.9/38.5 MB 8.6 MB/s eta 0:00:03\n",
      "   --------------------- ------------------ 21.1/38.5 MB 8.6 MB/s eta 0:00:03\n",
      "   --------------------- ------------------ 21.1/38.5 MB 8.6 MB/s eta 0:00:03\n",
      "   --------------------- ------------------ 21.1/38.5 MB 8.6 MB/s eta 0:00:03\n",
      "   --------------------- ------------------ 21.1/38.5 MB 8.6 MB/s eta 0:00:03\n",
      "   --------------------- ------------------ 21.1/38.5 MB 8.6 MB/s eta 0:00:03\n",
      "   ---------------------- ----------------- 21.6/38.5 MB 7.6 MB/s eta 0:00:03\n",
      "   ----------------------- ---------------- 22.4/38.5 MB 7.7 MB/s eta 0:00:03\n",
      "   ------------------------- -------------- 24.1/38.5 MB 8.7 MB/s eta 0:00:02\n",
      "   ------------------------- -------------- 24.5/38.5 MB 8.7 MB/s eta 0:00:02\n",
      "   ------------------------- -------------- 25.0/38.5 MB 8.8 MB/s eta 0:00:02\n",
      "   -------------------------- ------------- 25.3/38.5 MB 8.7 MB/s eta 0:00:02\n",
      "   -------------------------- ------------- 25.5/38.5 MB 8.7 MB/s eta 0:00:02\n",
      "   --------------------------- ------------ 26.0/38.5 MB 8.6 MB/s eta 0:00:02\n",
      "   --------------------------- ------------ 26.5/38.5 MB 8.7 MB/s eta 0:00:02\n",
      "   ---------------------------- ----------- 27.0/38.5 MB 8.7 MB/s eta 0:00:02\n",
      "   ---------------------------- ----------- 27.3/38.5 MB 8.6 MB/s eta 0:00:02\n",
      "   ---------------------------- ----------- 27.6/38.5 MB 8.7 MB/s eta 0:00:02\n",
      "   ----------------------------- ---------- 28.1/38.5 MB 8.7 MB/s eta 0:00:02\n",
      "   ----------------------------- ---------- 28.5/38.5 MB 8.7 MB/s eta 0:00:02\n",
      "   ----------------------------- ---------- 28.9/38.5 MB 8.6 MB/s eta 0:00:02\n",
      "   ------------------------------ --------- 29.2/38.5 MB 8.6 MB/s eta 0:00:02\n",
      "   ------------------------------ --------- 29.6/38.5 MB 8.5 MB/s eta 0:00:02\n",
      "   ------------------------------- -------- 30.0/38.5 MB 8.5 MB/s eta 0:00:01\n",
      "   ------------------------------- -------- 30.5/38.5 MB 8.6 MB/s eta 0:00:01\n",
      "   ------------------------------- -------- 30.8/38.5 MB 8.7 MB/s eta 0:00:01\n",
      "   -------------------------------- ------- 31.3/38.5 MB 8.7 MB/s eta 0:00:01\n",
      "   -------------------------------- ------- 31.7/38.5 MB 10.4 MB/s eta 0:00:01\n",
      "   --------------------------------- ------ 32.0/38.5 MB 10.2 MB/s eta 0:00:01\n",
      "   --------------------------------- ------ 32.6/38.5 MB 10.1 MB/s eta 0:00:01\n",
      "   ---------------------------------- ----- 32.9/38.5 MB 9.6 MB/s eta 0:00:01\n",
      "   ---------------------------------- ----- 33.4/38.5 MB 9.4 MB/s eta 0:00:01\n",
      "   ----------------------------------- ---- 33.8/38.5 MB 9.0 MB/s eta 0:00:01\n",
      "   ----------------------------------- ---- 34.2/38.5 MB 8.6 MB/s eta 0:00:01\n",
      "   ------------------------------------ --- 34.7/38.5 MB 8.8 MB/s eta 0:00:01\n",
      "   ------------------------------------ --- 35.1/38.5 MB 8.8 MB/s eta 0:00:01\n",
      "   ------------------------------------ --- 35.5/38.5 MB 8.8 MB/s eta 0:00:01\n",
      "   ------------------------------------- -- 35.9/38.5 MB 8.8 MB/s eta 0:00:01\n",
      "   ------------------------------------- -- 36.3/38.5 MB 9.0 MB/s eta 0:00:01\n",
      "   -------------------------------------- - 36.7/38.5 MB 8.8 MB/s eta 0:00:01\n",
      "   -------------------------------------- - 37.2/38.5 MB 8.7 MB/s eta 0:00:01\n",
      "   ---------------------------------------  37.6/38.5 MB 9.0 MB/s eta 0:00:01\n",
      "   ---------------------------------------  38.0/38.5 MB 9.2 MB/s eta 0:00:01\n",
      "   ---------------------------------------  38.5/38.5 MB 9.1 MB/s eta 0:00:01\n",
      "   ---------------------------------------  38.5/38.5 MB 9.0 MB/s eta 0:00:01\n",
      "   ---------------------------------------  38.5/38.5 MB 9.0 MB/s eta 0:00:01\n",
      "   ---------------------------------------  38.5/38.5 MB 9.0 MB/s eta 0:00:01\n",
      "   ---------------------------------------  38.5/38.5 MB 9.0 MB/s eta 0:00:01\n",
      "   ---------------------------------------- 38.5/38.5 MB 7.4 MB/s eta 0:00:00\n",
      "Downloading threadpoolctl-3.6.0-py3-none-any.whl (18 kB)\n",
      "Installing collected packages: threadpoolctl, scipy, joblib, scikit-learn\n",
      "Successfully installed joblib-1.5.1 scikit-learn-1.7.1 scipy-1.16.1 threadpoolctl-3.6.0\n",
      "Note: you may need to restart the kernel to use updated packages.\n"
     ]
    },
    {
     "name": "stderr",
     "output_type": "stream",
     "text": [
      "\n",
      "[notice] A new release of pip is available: 23.2.1 -> 25.2\n",
      "[notice] To update, run: python.exe -m pip install --upgrade pip\n"
     ]
    }
   ],
   "source": [
    "pip install scikit-learn"
   ]
  },
  {
   "cell_type": "code",
   "execution_count": 11,
   "id": "959932c7",
   "metadata": {},
   "outputs": [],
   "source": [
    "from app import x_train, y_train, x_test, y_test"
   ]
  },
  {
   "cell_type": "code",
   "execution_count": 12,
   "id": "1443cc03",
   "metadata": {},
   "outputs": [
    {
     "name": "stderr",
     "output_type": "stream",
     "text": [
      "d:\\Generative AI\\venv\\Lib\\site-packages\\keras\\src\\layers\\core\\dense.py:92: UserWarning: Do not pass an `input_shape`/`input_dim` argument to a layer. When using Sequential models, prefer using an `Input(shape)` object as the first layer in the model instead.\n",
      "  super().__init__(activity_regularizer=activity_regularizer, **kwargs)\n"
     ]
    }
   ],
   "source": [
    "#build our model\n",
    "#its acctually become a entire model\n",
    "model = Sequential([\n",
    "      Dense(64,activation='relu', input_shape=(x_train.shape[1],)), #First Hidden Layer\n",
    "      Dense(32, activation='relu'), #Second hidden layer (for this time we dont need to add input shape because in Sequential its connected to each layer\n",
    "      Dense(1, activation='sigmoid') #its a output layer\n",
    "])"
   ]
  },
  {
   "cell_type": "code",
   "execution_count": 13,
   "id": "b2e17450",
   "metadata": {},
   "outputs": [],
   "source": [
    "# We use model.summary() to display a summary of the model architecture.\n",
    "# It shows each layer, its type, output shape, and the number of trainable parameters.\n",
    "# This helps us verify that the model is built as intended before training.\n",
    "# print(model.summary())\n",
    "# We are defining the Adam optimizer with a custom learning rate.\n",
    "# Adam (Adaptive Moment Estimation) combines the benefits of AdaGrad and RMSProp,\n",
    "# making it efficient and widely used for training deep learning models.\n",
    "# The learning_rate=0.01 controls the step size for weight updates:\n",
    "opt = tf.keras.optimizers.Adam(learning_rate=0.01)\n",
    "loss = tf.keras.losses.BinaryCrossentropy()"
   ]
  },
  {
   "cell_type": "code",
   "execution_count": 14,
   "id": "a100cccb",
   "metadata": {},
   "outputs": [],
   "source": [
    "#compile the model\n",
    "model.compile(optimizer=opt, loss=\"binary_crossentropy\", metrics=['accuracy'])"
   ]
  },
  {
   "cell_type": "code",
   "execution_count": 25,
   "id": "913c1788",
   "metadata": {},
   "outputs": [],
   "source": [
    "log_dir= \"logs/fit/\" + datetime.datetime.now().strftime(\"%Y%m%d-%H%M%S\")"
   ]
  },
  {
   "cell_type": "code",
   "execution_count": 16,
   "id": "e6633b9d",
   "metadata": {},
   "outputs": [],
   "source": [
    "# We use TensorBoard callback to visualize and monitor training in real-time.\n",
    "# It helps track metrics like loss, accuracy, learning rate, and model graphs.\n",
    "# After training, we can open TensorBoard in the browser to see plots and comparisons.\n",
    "# Example usage: tensorboard --logdir=log_dir\n",
    "tensorflow_callback = TensorBoard(log_dir=log_dir, histogram_freq=1)"
   ]
  },
  {
   "cell_type": "code",
   "execution_count": 17,
   "id": "ea236698",
   "metadata": {},
   "outputs": [],
   "source": [
    "#setup Early Stopping\n",
    "# We use EarlyStopping to stop training automatically when the model stops improving.\n",
    "# monitor='val_loss' → watches the validation loss after each epoch.\n",
    "# patience=5 → waits for 5 epochs without improvement before stopping.\n",
    "# restore_best_weights=True → after stopping, restores the model weights from the epoch\n",
    "# where the validation loss was best (prevents overfitting).\n",
    "early_stopping_callback = EarlyStopping(monitor='val_loss', patience=10, restore_best_weights=True)"
   ]
  },
  {
   "cell_type": "code",
   "execution_count": 18,
   "id": "bada7b26",
   "metadata": {},
   "outputs": [
    {
     "name": "stdout",
     "output_type": "stream",
     "text": [
      "Epoch 1/100\n",
      "\u001b[1m250/250\u001b[0m \u001b[32m━━━━━━━━━━━━━━━━━━━━\u001b[0m\u001b[37m\u001b[0m \u001b[1m6s\u001b[0m 9ms/step - accuracy: 0.8269 - loss: 0.4097 - val_accuracy: 0.8600 - val_loss: 0.3491\n",
      "Epoch 2/100\n",
      "\u001b[1m250/250\u001b[0m \u001b[32m━━━━━━━━━━━━━━━━━━━━\u001b[0m\u001b[37m\u001b[0m \u001b[1m2s\u001b[0m 6ms/step - accuracy: 0.8558 - loss: 0.3554 - val_accuracy: 0.8585 - val_loss: 0.3422\n",
      "Epoch 3/100\n",
      "\u001b[1m250/250\u001b[0m \u001b[32m━━━━━━━━━━━━━━━━━━━━\u001b[0m\u001b[37m\u001b[0m \u001b[1m3s\u001b[0m 11ms/step - accuracy: 0.8585 - loss: 0.3486 - val_accuracy: 0.8595 - val_loss: 0.3457\n",
      "Epoch 4/100\n",
      "\u001b[1m250/250\u001b[0m \u001b[32m━━━━━━━━━━━━━━━━━━━━\u001b[0m\u001b[37m\u001b[0m \u001b[1m5s\u001b[0m 9ms/step - accuracy: 0.8627 - loss: 0.3423 - val_accuracy: 0.8615 - val_loss: 0.3466\n",
      "Epoch 5/100\n",
      "\u001b[1m250/250\u001b[0m \u001b[32m━━━━━━━━━━━━━━━━━━━━\u001b[0m\u001b[37m\u001b[0m \u001b[1m2s\u001b[0m 7ms/step - accuracy: 0.8630 - loss: 0.3383 - val_accuracy: 0.8590 - val_loss: 0.3408\n",
      "Epoch 6/100\n",
      "\u001b[1m250/250\u001b[0m \u001b[32m━━━━━━━━━━━━━━━━━━━━\u001b[0m\u001b[37m\u001b[0m \u001b[1m3s\u001b[0m 8ms/step - accuracy: 0.8620 - loss: 0.3375 - val_accuracy: 0.8570 - val_loss: 0.3522\n",
      "Epoch 7/100\n",
      "\u001b[1m250/250\u001b[0m \u001b[32m━━━━━━━━━━━━━━━━━━━━\u001b[0m\u001b[37m\u001b[0m \u001b[1m3s\u001b[0m 9ms/step - accuracy: 0.8673 - loss: 0.3335 - val_accuracy: 0.8630 - val_loss: 0.3440\n",
      "Epoch 8/100\n",
      "\u001b[1m250/250\u001b[0m \u001b[32m━━━━━━━━━━━━━━━━━━━━\u001b[0m\u001b[37m\u001b[0m \u001b[1m2s\u001b[0m 9ms/step - accuracy: 0.8627 - loss: 0.3345 - val_accuracy: 0.8630 - val_loss: 0.3432\n",
      "Epoch 9/100\n",
      "\u001b[1m250/250\u001b[0m \u001b[32m━━━━━━━━━━━━━━━━━━━━\u001b[0m\u001b[37m\u001b[0m \u001b[1m2s\u001b[0m 6ms/step - accuracy: 0.8648 - loss: 0.3300 - val_accuracy: 0.8580 - val_loss: 0.3508\n",
      "Epoch 10/100\n",
      "\u001b[1m250/250\u001b[0m \u001b[32m━━━━━━━━━━━━━━━━━━━━\u001b[0m\u001b[37m\u001b[0m \u001b[1m1s\u001b[0m 5ms/step - accuracy: 0.8652 - loss: 0.3305 - val_accuracy: 0.8565 - val_loss: 0.3483\n",
      "Epoch 11/100\n",
      "\u001b[1m250/250\u001b[0m \u001b[32m━━━━━━━━━━━━━━━━━━━━\u001b[0m\u001b[37m\u001b[0m \u001b[1m1s\u001b[0m 5ms/step - accuracy: 0.8681 - loss: 0.3265 - val_accuracy: 0.8595 - val_loss: 0.3453\n",
      "Epoch 12/100\n",
      "\u001b[1m250/250\u001b[0m \u001b[32m━━━━━━━━━━━━━━━━━━━━\u001b[0m\u001b[37m\u001b[0m \u001b[1m3s\u001b[0m 6ms/step - accuracy: 0.8684 - loss: 0.3252 - val_accuracy: 0.8570 - val_loss: 0.3472\n",
      "Epoch 13/100\n",
      "\u001b[1m250/250\u001b[0m \u001b[32m━━━━━━━━━━━━━━━━━━━━\u001b[0m\u001b[37m\u001b[0m \u001b[1m1s\u001b[0m 5ms/step - accuracy: 0.8684 - loss: 0.3239 - val_accuracy: 0.8655 - val_loss: 0.3462\n",
      "Epoch 14/100\n",
      "\u001b[1m250/250\u001b[0m \u001b[32m━━━━━━━━━━━━━━━━━━━━\u001b[0m\u001b[37m\u001b[0m \u001b[1m3s\u001b[0m 7ms/step - accuracy: 0.8676 - loss: 0.3215 - val_accuracy: 0.8585 - val_loss: 0.3527\n",
      "Epoch 15/100\n",
      "\u001b[1m250/250\u001b[0m \u001b[32m━━━━━━━━━━━━━━━━━━━━\u001b[0m\u001b[37m\u001b[0m \u001b[1m3s\u001b[0m 6ms/step - accuracy: 0.8702 - loss: 0.3167 - val_accuracy: 0.8550 - val_loss: 0.3570\n"
     ]
    }
   ],
   "source": [
    "#Train the model\n",
    "history= model.fit(\n",
    "      x_train,y_train,validation_data=(x_test,y_test), epochs= 100,\n",
    "      callbacks=[tensorflow_callback,early_stopping_callback]\n",
    ")"
   ]
  },
  {
   "cell_type": "code",
   "execution_count": 19,
   "id": "6fcae99e",
   "metadata": {},
   "outputs": [
    {
     "name": "stderr",
     "output_type": "stream",
     "text": [
      "WARNING:absl:You are saving your model as an HDF5 file via `model.save()` or `keras.saving.save_model(model)`. This file format is considered legacy. We recommend using instead the native Keras format, e.g. `model.save('my_model.keras')` or `keras.saving.save_model(model, 'my_model.keras')`. \n"
     ]
    }
   ],
   "source": [
    "#save the model\n",
    "# We use model.save('model.h5') to save the entire model in HDF5 (.h5) format.\n",
    "# This format stores:\n",
    "#   - Model architecture (layers and connections)\n",
    "#   - Weights of the model\n",
    "#   - Training configuration (loss, optimizer, metrics)\n",
    "model.save('model.h5')"
   ]
  },
  {
   "cell_type": "code",
   "execution_count": 20,
   "id": "976c50f2",
   "metadata": {},
   "outputs": [],
   "source": [
    "#load tensorboard Extension\n",
    "%load_ext tensorboard"
   ]
  },
  {
   "cell_type": "code",
   "execution_count": 26,
   "id": "b70f89ab",
   "metadata": {},
   "outputs": [
    {
     "data": {
      "text/plain": [
       "Reusing TensorBoard on port 6006 (pid 19864), started 0:26:47 ago. (Use '!kill 19864' to kill it.)"
      ]
     },
     "metadata": {},
     "output_type": "display_data"
    },
    {
     "data": {
      "text/html": [
       "\n",
       "      <iframe id=\"tensorboard-frame-38863454cd56c7fa\" width=\"100%\" height=\"800\" frameborder=\"0\">\n",
       "      </iframe>\n",
       "      <script>\n",
       "        (function() {\n",
       "          const frame = document.getElementById(\"tensorboard-frame-38863454cd56c7fa\");\n",
       "          const url = new URL(\"http://localhost\");\n",
       "          const port = 6006;\n",
       "          if (port) {\n",
       "            url.port = port;\n",
       "          }\n",
       "          frame.src = url;\n",
       "        })();\n",
       "      </script>\n",
       "    "
      ],
      "text/plain": [
       "<IPython.core.display.HTML object>"
      ]
     },
     "metadata": {},
     "output_type": "display_data"
    }
   ],
   "source": [
    "#Launch Tensorboard\n",
    "%tensorboard --logdir logs"
   ]
  }
 ],
 "metadata": {
  "kernelspec": {
   "display_name": "venv",
   "language": "python",
   "name": "python3"
  },
  "language_info": {
   "codemirror_mode": {
    "name": "ipython",
    "version": 3
   },
   "file_extension": ".py",
   "mimetype": "text/x-python",
   "name": "python",
   "nbconvert_exporter": "python",
   "pygments_lexer": "ipython3",
   "version": "3.12.1"
  }
 },
 "nbformat": 4,
 "nbformat_minor": 5
}
